{
 "cells": [
  {
   "cell_type": "code",
   "execution_count": 1,
   "metadata": {},
   "outputs": [
    {
     "name": "stdout",
     "output_type": "stream",
     "text": [
      "The files are identical.\n"
     ]
    }
   ],
   "source": [
    "import os\n",
    "\n",
    "def compare_files(file1, file2):\n",
    "    if not os.path.exists(file1):\n",
    "        print(f\"Error: {file1} not found. Please check the file name.\")\n",
    "        return\n",
    "    if not os.path.exists(file2):\n",
    "        print(f\"Error: {file2} not found. Please check the file name.\")\n",
    "        return\n",
    "\n",
    "    with open(file1, 'r', encoding='utf-8') as f1, open(file2, 'r', encoding='utf-8') as f2:\n",
    "        content1 = f1.read()\n",
    "        content2 = f2.read()\n",
    "\n",
    "        if content1 == content2:\n",
    "            print(\"The files are identical.\")\n",
    "        else:\n",
    "            print(\"The files are different.\")\n",
    "\n",
    "if __name__ == \"__main__\":\n",
    "    file1 = input(\"Enter the first file name (with .txt extension): \")\n",
    "    file2 = input(\"Enter the second file name (with .txt extension): \")\n",
    "    compare_files(file1, file2)\n"
   ]
  },
  {
   "cell_type": "code",
   "execution_count": null,
   "metadata": {},
   "outputs": [],
   "source": []
  }
 ],
 "metadata": {
  "kernelspec": {
   "display_name": "Python 3",
   "language": "python",
   "name": "python3"
  },
  "language_info": {
   "codemirror_mode": {
    "name": "ipython",
    "version": 3
   },
   "file_extension": ".py",
   "mimetype": "text/x-python",
   "name": "python",
   "nbconvert_exporter": "python",
   "pygments_lexer": "ipython3",
   "version": "3.10.4"
  }
 },
 "nbformat": 4,
 "nbformat_minor": 2
}
