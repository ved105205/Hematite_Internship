{
 "cells": [
  {
   "cell_type": "code",
   "execution_count": 3,
   "metadata": {},
   "outputs": [
    {
     "name": "stdout",
     "output_type": "stream",
     "text": [
      "The files are identical.\n"
     ]
    }
   ],
   "source": [
    "def compare_files(file1, file2):\n",
    "    try:\n",
    "        with open(file1, 'r', encoding='utf-8') as f1, open(file2, 'r', encoding='utf-8') as f2:\n",
    "            content1 = f1.read()\n",
    "            content2 = f2.read()\n",
    "\n",
    "            if content1 == content2:\n",
    "                print(\"The files are identical.\")\n",
    "            else:\n",
    "                print(\"The files are different.\")\n",
    "    except FileNotFoundError:\n",
    "        print(\"One or both files do not exist. Please check the file names.\")\n",
    "\n",
    "file1 = input(\"Enter the first file name: \")\n",
    "file2 = input(\"Enter the second file name: \")\n",
    "\n",
    "compare_files(file1, file2)\n"
   ]
  }
 ],
 "metadata": {
  "kernelspec": {
   "display_name": "Python 3",
   "language": "python",
   "name": "python3"
  },
  "language_info": {
   "codemirror_mode": {
    "name": "ipython",
    "version": 3
   },
   "file_extension": ".py",
   "mimetype": "text/x-python",
   "name": "python",
   "nbconvert_exporter": "python",
   "pygments_lexer": "ipython3",
   "version": "3.10.4"
  }
 },
 "nbformat": 4,
 "nbformat_minor": 2
}
