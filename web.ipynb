{
 "cells": [
  {
   "cell_type": "code",
   "execution_count": 13,
   "metadata": {},
   "outputs": [],
   "source": [
    "import os\n",
    "import requests\n",
    "import pandas as pd\n",
    "from bs4 import BeautifulSoup\n",
    "from urllib.parse import urljoin"
   ]
  },
  {
   "cell_type": "code",
   "execution_count": 14,
   "metadata": {},
   "outputs": [],
   "source": [
    "url = \"https://en.wikipedia.org/wiki/World_population\"\n",
    "tables = pd.read_html(url)\n"
   ]
  },
  {
   "cell_type": "code",
   "execution_count": 15,
   "metadata": {},
   "outputs": [
    {
     "name": "stdout",
     "output_type": "stream",
     "text": [
      "Total tables found on webpage: 27\n"
     ]
    }
   ],
   "source": [
    "print(f\"Total tables found on webpage: {len(tables)}\")"
   ]
  },
  {
   "cell_type": "code",
   "execution_count": 16,
   "metadata": {},
   "outputs": [
    {
     "name": "stdout",
     "output_type": "stream",
     "text": [
      "Columns of the first table:\n",
      "Index(['Population', '1', '2', '3', '4', '5', '6', '7', '8', '9', '10'], dtype='object')\n",
      "Failed to download https://login.wikimedia.org/wiki/Special:CentralAutoLogin/start?useformat=desktop&type=1x1&usesul3=0: [Errno 22] Invalid argument: 'downloaded_images\\\\start?useformat=desktop&type=1x1&usesul3=0'\n",
      "97 images downloaded from 98 images found.\n"
     ]
    }
   ],
   "source": [
    "if tables:\n",
    "    print(\"Columns of the first table:\")\n",
    "    print(tables[0].columns)\n",
    "def download_images(url, folder=\"downloaded_images\"):\n",
    "    # Create folder if it doesn't exist\n",
    "    os.makedirs(folder, exist_ok=True)\n",
    "\n",
    "    # Get page content\n",
    "    response = requests.get(url)\n",
    "    soup = BeautifulSoup(response.text, 'html.parser')\n",
    "\n",
    "    # Find all image tags\n",
    "    img_tags = soup.find_all(\"img\")\n",
    "    total_images = len(img_tags)\n",
    "    downloaded_images = 0\n",
    "\n",
    "    for img in img_tags:\n",
    "        img_url = img.get(\"src\")\n",
    "        if img_url:\n",
    "            img_url = urljoin(url, img_url)  # Handle relative URLs\n",
    "            img_name = os.path.join(folder, os.path.basename(img_url))\n",
    "\n",
    "            # Download image\n",
    "            try:\n",
    "                img_data = requests.get(img_url).content\n",
    "                with open(img_name, \"wb\") as f:\n",
    "                    f.write(img_data)\n",
    "                downloaded_images += 1\n",
    "            except Exception as e:\n",
    "                print(f\"Failed to download {img_url}: {e}\")\n",
    "\n",
    "    print(f\"{downloaded_images} images downloaded from {total_images} images found.\")\n",
    "\n",
    "# Run image downloader\n",
    "download_images(url)"
   ]
  },
  {
   "cell_type": "code",
   "execution_count": null,
   "metadata": {},
   "outputs": [],
   "source": []
  }
 ],
 "metadata": {
  "kernelspec": {
   "display_name": "Python 3",
   "language": "python",
   "name": "python3"
  },
  "language_info": {
   "codemirror_mode": {
    "name": "ipython",
    "version": 3
   },
   "file_extension": ".py",
   "mimetype": "text/x-python",
   "name": "python",
   "nbconvert_exporter": "python",
   "pygments_lexer": "ipython3",
   "version": "3.10.4"
  }
 },
 "nbformat": 4,
 "nbformat_minor": 2
}
