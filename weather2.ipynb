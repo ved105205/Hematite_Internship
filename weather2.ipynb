{
 "cells": [
  {
   "cell_type": "code",
   "execution_count": 1,
   "metadata": {},
   "outputs": [],
   "source": [
    "import pandas as pd\n",
    "import numpy as np\n",
    "import matplotlib.pyplot as plt\n",
    "import seaborn as sns\n",
    "from sklearn.model_selection import train_test_split\n",
    "from sklearn.preprocessing import LabelEncoder\n",
    "from sklearn.ensemble import RandomForestRegressor, GradientBoostingRegressor\n",
    "from xgboost import XGBRegressor\n",
    "from sklearn.metrics import mean_absolute_error, r2_score\n",
    "from datetime import datetime, timedelta"
   ]
  },
  {
   "cell_type": "code",
   "execution_count": 2,
   "metadata": {},
   "outputs": [],
   "source": [
    "df = pd.read_csv(\"Road_Weather_Information_Stations.csv\")\n"
   ]
  },
  {
   "cell_type": "code",
   "execution_count": 3,
   "metadata": {},
   "outputs": [
    {
     "data": {
      "text/html": [
       "<div>\n",
       "<style scoped>\n",
       "    .dataframe tbody tr th:only-of-type {\n",
       "        vertical-align: middle;\n",
       "    }\n",
       "\n",
       "    .dataframe tbody tr th {\n",
       "        vertical-align: top;\n",
       "    }\n",
       "\n",
       "    .dataframe thead th {\n",
       "        text-align: right;\n",
       "    }\n",
       "</style>\n",
       "<table border=\"1\" class=\"dataframe\">\n",
       "  <thead>\n",
       "    <tr style=\"text-align: right;\">\n",
       "      <th></th>\n",
       "      <th>StationName</th>\n",
       "      <th>StationLocation</th>\n",
       "      <th>DateTime</th>\n",
       "      <th>RecordId</th>\n",
       "      <th>RoadSurfaceTemperature</th>\n",
       "      <th>AirTemperature</th>\n",
       "    </tr>\n",
       "  </thead>\n",
       "  <tbody>\n",
       "    <tr>\n",
       "      <th>0</th>\n",
       "      <td>RooseveltWay_NE80thSt</td>\n",
       "      <td>POINT (-122.31765 47.692098)</td>\n",
       "      <td>03/04/2025 12:46:00 AM</td>\n",
       "      <td>6444193</td>\n",
       "      <td>47.22</td>\n",
       "      <td>47.22</td>\n",
       "    </tr>\n",
       "    <tr>\n",
       "      <th>1</th>\n",
       "      <td>RooseveltWay_NE80thSt</td>\n",
       "      <td>POINT (-122.31765 47.692098)</td>\n",
       "      <td>03/04/2025 12:47:00 AM</td>\n",
       "      <td>6444194</td>\n",
       "      <td>47.22</td>\n",
       "      <td>47.22</td>\n",
       "    </tr>\n",
       "    <tr>\n",
       "      <th>2</th>\n",
       "      <td>RooseveltWay_NE80thSt</td>\n",
       "      <td>POINT (-122.31765 47.692098)</td>\n",
       "      <td>03/04/2025 12:48:00 AM</td>\n",
       "      <td>6444195</td>\n",
       "      <td>47.22</td>\n",
       "      <td>47.22</td>\n",
       "    </tr>\n",
       "    <tr>\n",
       "      <th>3</th>\n",
       "      <td>RooseveltWay_NE80thSt</td>\n",
       "      <td>POINT (-122.31765 47.692098)</td>\n",
       "      <td>03/04/2025 12:49:00 AM</td>\n",
       "      <td>6444196</td>\n",
       "      <td>47.22</td>\n",
       "      <td>47.22</td>\n",
       "    </tr>\n",
       "    <tr>\n",
       "      <th>4</th>\n",
       "      <td>RooseveltWay_NE80thSt</td>\n",
       "      <td>POINT (-122.31765 47.692098)</td>\n",
       "      <td>03/04/2025 12:50:00 AM</td>\n",
       "      <td>6444197</td>\n",
       "      <td>47.22</td>\n",
       "      <td>47.22</td>\n",
       "    </tr>\n",
       "  </tbody>\n",
       "</table>\n",
       "</div>"
      ],
      "text/plain": [
       "             StationName               StationLocation  \\\n",
       "0  RooseveltWay_NE80thSt  POINT (-122.31765 47.692098)   \n",
       "1  RooseveltWay_NE80thSt  POINT (-122.31765 47.692098)   \n",
       "2  RooseveltWay_NE80thSt  POINT (-122.31765 47.692098)   \n",
       "3  RooseveltWay_NE80thSt  POINT (-122.31765 47.692098)   \n",
       "4  RooseveltWay_NE80thSt  POINT (-122.31765 47.692098)   \n",
       "\n",
       "                 DateTime  RecordId  RoadSurfaceTemperature  AirTemperature  \n",
       "0  03/04/2025 12:46:00 AM   6444193                   47.22           47.22  \n",
       "1  03/04/2025 12:47:00 AM   6444194                   47.22           47.22  \n",
       "2  03/04/2025 12:48:00 AM   6444195                   47.22           47.22  \n",
       "3  03/04/2025 12:49:00 AM   6444196                   47.22           47.22  \n",
       "4  03/04/2025 12:50:00 AM   6444197                   47.22           47.22  "
      ]
     },
     "execution_count": 3,
     "metadata": {},
     "output_type": "execute_result"
    }
   ],
   "source": [
    "df.head()"
   ]
  },
  {
   "cell_type": "code",
   "execution_count": 4,
   "metadata": {},
   "outputs": [
    {
     "data": {
      "text/html": [
       "<div>\n",
       "<style scoped>\n",
       "    .dataframe tbody tr th:only-of-type {\n",
       "        vertical-align: middle;\n",
       "    }\n",
       "\n",
       "    .dataframe tbody tr th {\n",
       "        vertical-align: top;\n",
       "    }\n",
       "\n",
       "    .dataframe thead th {\n",
       "        text-align: right;\n",
       "    }\n",
       "</style>\n",
       "<table border=\"1\" class=\"dataframe\">\n",
       "  <thead>\n",
       "    <tr style=\"text-align: right;\">\n",
       "      <th></th>\n",
       "      <th>StationName</th>\n",
       "      <th>StationLocation</th>\n",
       "      <th>DateTime</th>\n",
       "      <th>RecordId</th>\n",
       "      <th>RoadSurfaceTemperature</th>\n",
       "      <th>AirTemperature</th>\n",
       "    </tr>\n",
       "  </thead>\n",
       "  <tbody>\n",
       "    <tr>\n",
       "      <th>14060</th>\n",
       "      <td>AuroraBridge</td>\n",
       "      <td>POINT (-122.347278 47.643174)</td>\n",
       "      <td>03/03/2025 12:56:00 AM</td>\n",
       "      <td>6394269</td>\n",
       "      <td>50.49</td>\n",
       "      <td>47.67</td>\n",
       "    </tr>\n",
       "    <tr>\n",
       "      <th>14061</th>\n",
       "      <td>AuroraBridge</td>\n",
       "      <td>POINT (-122.347278 47.643174)</td>\n",
       "      <td>03/03/2025 12:57:00 AM</td>\n",
       "      <td>6394270</td>\n",
       "      <td>50.48</td>\n",
       "      <td>47.65</td>\n",
       "    </tr>\n",
       "    <tr>\n",
       "      <th>14062</th>\n",
       "      <td>AuroraBridge</td>\n",
       "      <td>POINT (-122.347278 47.643174)</td>\n",
       "      <td>03/03/2025 12:58:00 AM</td>\n",
       "      <td>6394271</td>\n",
       "      <td>50.47</td>\n",
       "      <td>47.65</td>\n",
       "    </tr>\n",
       "    <tr>\n",
       "      <th>14063</th>\n",
       "      <td>AuroraBridge</td>\n",
       "      <td>POINT (-122.347278 47.643174)</td>\n",
       "      <td>03/03/2025 12:59:00 AM</td>\n",
       "      <td>6394272</td>\n",
       "      <td>50.46</td>\n",
       "      <td>47.65</td>\n",
       "    </tr>\n",
       "    <tr>\n",
       "      <th>14064</th>\n",
       "      <td>AuroraBridge</td>\n",
       "      <td>POINT (-122.347278 47.643174)</td>\n",
       "      <td>03/03/2025 01:00:00 AM</td>\n",
       "      <td>6394273</td>\n",
       "      <td>50.46</td>\n",
       "      <td>47.65</td>\n",
       "    </tr>\n",
       "  </tbody>\n",
       "</table>\n",
       "</div>"
      ],
      "text/plain": [
       "        StationName                StationLocation                DateTime  \\\n",
       "14060  AuroraBridge  POINT (-122.347278 47.643174)  03/03/2025 12:56:00 AM   \n",
       "14061  AuroraBridge  POINT (-122.347278 47.643174)  03/03/2025 12:57:00 AM   \n",
       "14062  AuroraBridge  POINT (-122.347278 47.643174)  03/03/2025 12:58:00 AM   \n",
       "14063  AuroraBridge  POINT (-122.347278 47.643174)  03/03/2025 12:59:00 AM   \n",
       "14064  AuroraBridge  POINT (-122.347278 47.643174)  03/03/2025 01:00:00 AM   \n",
       "\n",
       "       RecordId  RoadSurfaceTemperature  AirTemperature  \n",
       "14060   6394269                   50.49           47.67  \n",
       "14061   6394270                   50.48           47.65  \n",
       "14062   6394271                   50.47           47.65  \n",
       "14063   6394272                   50.46           47.65  \n",
       "14064   6394273                   50.46           47.65  "
      ]
     },
     "execution_count": 4,
     "metadata": {},
     "output_type": "execute_result"
    }
   ],
   "source": [
    "df.tail()"
   ]
  },
  {
   "cell_type": "code",
   "execution_count": 5,
   "metadata": {},
   "outputs": [
    {
     "data": {
      "text/plain": [
       "StationName               0\n",
       "StationLocation           0\n",
       "DateTime                  0\n",
       "RecordId                  0\n",
       "RoadSurfaceTemperature    0\n",
       "AirTemperature            0\n",
       "dtype: int64"
      ]
     },
     "execution_count": 5,
     "metadata": {},
     "output_type": "execute_result"
    }
   ],
   "source": [
    "df.isnull().sum()"
   ]
  },
  {
   "cell_type": "code",
   "execution_count": 6,
   "metadata": {},
   "outputs": [
    {
     "data": {
      "text/html": [
       "<div>\n",
       "<style scoped>\n",
       "    .dataframe tbody tr th:only-of-type {\n",
       "        vertical-align: middle;\n",
       "    }\n",
       "\n",
       "    .dataframe tbody tr th {\n",
       "        vertical-align: top;\n",
       "    }\n",
       "\n",
       "    .dataframe thead th {\n",
       "        text-align: right;\n",
       "    }\n",
       "</style>\n",
       "<table border=\"1\" class=\"dataframe\">\n",
       "  <thead>\n",
       "    <tr style=\"text-align: right;\">\n",
       "      <th></th>\n",
       "      <th>RecordId</th>\n",
       "      <th>RoadSurfaceTemperature</th>\n",
       "      <th>AirTemperature</th>\n",
       "    </tr>\n",
       "  </thead>\n",
       "  <tbody>\n",
       "    <tr>\n",
       "      <th>count</th>\n",
       "      <td>1.406500e+04</td>\n",
       "      <td>14065.000000</td>\n",
       "      <td>14065.00000</td>\n",
       "    </tr>\n",
       "    <tr>\n",
       "      <th>mean</th>\n",
       "      <td>4.817993e+06</td>\n",
       "      <td>48.778478</td>\n",
       "      <td>47.27448</td>\n",
       "    </tr>\n",
       "    <tr>\n",
       "      <th>std</th>\n",
       "      <td>1.727984e+06</td>\n",
       "      <td>2.636119</td>\n",
       "      <td>1.92964</td>\n",
       "    </tr>\n",
       "    <tr>\n",
       "      <th>min</th>\n",
       "      <td>1.697775e+06</td>\n",
       "      <td>43.280000</td>\n",
       "      <td>43.30000</td>\n",
       "    </tr>\n",
       "    <tr>\n",
       "      <th>25%</th>\n",
       "      <td>3.322578e+06</td>\n",
       "      <td>47.220000</td>\n",
       "      <td>45.74000</td>\n",
       "    </tr>\n",
       "    <tr>\n",
       "      <th>50%</th>\n",
       "      <td>4.700317e+06</td>\n",
       "      <td>48.820000</td>\n",
       "      <td>47.26000</td>\n",
       "    </tr>\n",
       "    <tr>\n",
       "      <th>75%</th>\n",
       "      <td>6.425212e+06</td>\n",
       "      <td>49.990000</td>\n",
       "      <td>48.49000</td>\n",
       "    </tr>\n",
       "    <tr>\n",
       "      <th>max</th>\n",
       "      <td>6.445467e+06</td>\n",
       "      <td>59.260000</td>\n",
       "      <td>54.54000</td>\n",
       "    </tr>\n",
       "  </tbody>\n",
       "</table>\n",
       "</div>"
      ],
      "text/plain": [
       "           RecordId  RoadSurfaceTemperature  AirTemperature\n",
       "count  1.406500e+04            14065.000000     14065.00000\n",
       "mean   4.817993e+06               48.778478        47.27448\n",
       "std    1.727984e+06                2.636119         1.92964\n",
       "min    1.697775e+06               43.280000        43.30000\n",
       "25%    3.322578e+06               47.220000        45.74000\n",
       "50%    4.700317e+06               48.820000        47.26000\n",
       "75%    6.425212e+06               49.990000        48.49000\n",
       "max    6.445467e+06               59.260000        54.54000"
      ]
     },
     "execution_count": 6,
     "metadata": {},
     "output_type": "execute_result"
    }
   ],
   "source": [
    "df.describe()"
   ]
  },
  {
   "cell_type": "code",
   "execution_count": 7,
   "metadata": {},
   "outputs": [
    {
     "data": {
      "text/plain": [
       "(14065, 6)"
      ]
     },
     "execution_count": 7,
     "metadata": {},
     "output_type": "execute_result"
    }
   ],
   "source": [
    "df.shape"
   ]
  },
  {
   "cell_type": "code",
   "execution_count": 8,
   "metadata": {},
   "outputs": [
    {
     "name": "stderr",
     "output_type": "stream",
     "text": [
      "C:\\Users\\hp\\AppData\\Local\\Temp\\ipykernel_10028\\1330258622.py:1: UserWarning: Could not infer format, so each element will be parsed individually, falling back to `dateutil`. To ensure parsing is consistent and as-expected, please specify a format.\n",
      "  df['DateTime'] = pd.to_datetime(df['DateTime'])\n"
     ]
    }
   ],
   "source": [
    "df['DateTime'] = pd.to_datetime(df['DateTime'])\n",
    "df['Year'] = df['DateTime'].dt.year\n",
    "df['Month'] = df['DateTime'].dt.month\n",
    "df['Day'] = df['DateTime'].dt.day\n",
    "df['Hour'] = df['DateTime'].dt.hour"
   ]
  },
  {
   "cell_type": "code",
   "execution_count": 9,
   "metadata": {},
   "outputs": [],
   "source": [
    "label_encoder = LabelEncoder()\n",
    "df['StationName'] = label_encoder.fit_transform(df['StationName'])"
   ]
  },
  {
   "cell_type": "code",
   "execution_count": 10,
   "metadata": {},
   "outputs": [],
   "source": [
    "feature_columns = ['StationName', 'AirTemperature', 'Year', 'Month', 'Day', 'Hour']\n",
    "X = df[feature_columns]\n",
    "y = df['RoadSurfaceTemperature']"
   ]
  },
  {
   "cell_type": "code",
   "execution_count": 11,
   "metadata": {},
   "outputs": [],
   "source": [
    "X_train, X_test, y_train, y_test = train_test_split(X, y, test_size=0.2, random_state=42)"
   ]
  },
  {
   "cell_type": "code",
   "execution_count": null,
   "metadata": {},
   "outputs": [],
   "source": [
    "def calculate_accuracy(y_true, y_pred):\n",
    "    mape = np.mean(np.abs((y_true - y_pred) / y_true)) * 100  \n",
    "    accuracy = 100 - mape  \n",
    "    return accuracy"
   ]
  },
  {
   "cell_type": "code",
   "execution_count": 26,
   "metadata": {},
   "outputs": [],
   "source": [
    "rf_model = RandomForestRegressor(n_estimators=100, random_state=42)\n",
    "rf_model.fit(X_train, y_train)\n",
    "y_pred_rf = rf_model.predict(X_test)"
   ]
  },
  {
   "cell_type": "code",
   "execution_count": 27,
   "metadata": {},
   "outputs": [],
   "source": [
    "xgb_model = XGBRegressor(n_estimators=100, learning_rate=0.1, random_state=42)\n",
    "xgb_model.fit(X_train, y_train)\n",
    "y_pred_xgb = xgb_model.predict(X_test)"
   ]
  },
  {
   "cell_type": "code",
   "execution_count": 28,
   "metadata": {},
   "outputs": [],
   "source": [
    "gb_model = GradientBoostingRegressor(n_estimators=100, learning_rate=0.1, random_state=42)\n",
    "gb_model.fit(X_train, y_train)\n",
    "y_pred_gb = gb_model.predict(X_test)"
   ]
  },
  {
   "cell_type": "code",
   "execution_count": 29,
   "metadata": {},
   "outputs": [],
   "source": [
    "y_train_pred_rf = rf_model.predict(X_train)\n",
    "train_r2_rf = r2_score(y_train, y_train_pred_rf)\n",
    "test_r2_rf = r2_score(y_test, y_pred_rf)\n",
    "train_mae_rf = mean_absolute_error(y_train, y_train_pred_rf)\n",
    "test_mae_rf = mean_absolute_error(y_test, y_pred_rf)\n",
    "train_accuracy_rf = calculate_accuracy(y_train, y_train_pred_rf)\n",
    "test_accuracy_rf = calculate_accuracy(y_test, y_pred_rf)"
   ]
  },
  {
   "cell_type": "code",
   "execution_count": 30,
   "metadata": {},
   "outputs": [],
   "source": [
    "y_train_pred_xgb = xgb_model.predict(X_train)\n",
    "train_r2_xgb = r2_score(y_train, y_train_pred_xgb)\n",
    "test_r2_xgb = r2_score(y_test, y_pred_xgb)\n",
    "train_mae_xgb = mean_absolute_error(y_train, y_train_pred_xgb)\n",
    "test_mae_xgb = mean_absolute_error(y_test, y_pred_xgb)\n",
    "train_accuracy_xgb = calculate_accuracy(y_train, y_train_pred_xgb)\n",
    "test_accuracy_xgb = calculate_accuracy(y_test, y_pred_xgb)"
   ]
  },
  {
   "cell_type": "code",
   "execution_count": 31,
   "metadata": {},
   "outputs": [],
   "source": [
    "y_train_pred_gb = gb_model.predict(X_train)\n",
    "train_r2_gb = r2_score(y_train, y_train_pred_gb)\n",
    "test_r2_gb = r2_score(y_test, y_pred_gb)\n",
    "train_mae_gb = mean_absolute_error(y_train, y_train_pred_gb)\n",
    "test_mae_gb = mean_absolute_error(y_test, y_pred_gb)\n",
    "train_accuracy_gb = calculate_accuracy(y_train, y_train_pred_gb)\n",
    "test_accuracy_gb = calculate_accuracy(y_test, y_pred_gb)"
   ]
  },
  {
   "cell_type": "code",
   "execution_count": 18,
   "metadata": {},
   "outputs": [],
   "source": [
    "future_dates = [datetime.now() + timedelta(days=i) for i in range(1, 8)]\n",
    "future_df = pd.DataFrame({\n",
    "    'StationName': [df['StationName'].mode()[0]] * 7,\n",
    "    'AirTemperature': [df['AirTemperature'].mean()] * 7,\n",
    "    'Year': [date.year for date in future_dates],\n",
    "    'Month': [date.month for date in future_dates],\n",
    "    'Day': [date.day for date in future_dates],\n",
    "    'Hour': [12] * 7\n",
    "})"
   ]
  },
  {
   "cell_type": "code",
   "execution_count": 32,
   "metadata": {},
   "outputs": [
    {
     "name": "stdout",
     "output_type": "stream",
     "text": [
      "\n",
      "Model Training and Test Accuracy Comparison:\n",
      "               Model  Train R² Score  Test R² Score  Train MAE  Test MAE  \\\n",
      "1            XGBoost        0.996497       0.995333   0.104029  0.110968   \n",
      "0      Random Forest        0.999485       0.994690   0.026428  0.054119   \n",
      "2  Gradient Boosting        0.966651       0.962212   0.332000  0.349579   \n",
      "\n",
      "   Train Accuracy (%)  Test Accuracy (%)  \n",
      "1           99.785075          99.771905  \n",
      "0           99.945858          99.890326  \n",
      "2           99.322826          99.290007  \n"
     ]
    }
   ],
   "source": [
    "model_results = pd.DataFrame({\n",
    "    \"Model\": [\"Random Forest\", \"XGBoost\", \"Gradient Boosting\"],\n",
    "    \"Train R² Score\": [train_r2_rf, train_r2_xgb, train_r2_gb],\n",
    "    \"Test R² Score\": [test_r2_rf, test_r2_xgb, test_r2_gb],\n",
    "    \"Train MAE\": [train_mae_rf, train_mae_xgb, train_mae_gb],\n",
    "    \"Test MAE\": [test_mae_rf, test_mae_xgb, test_mae_gb],\n",
    "    \"Train Accuracy (%)\": [train_accuracy_rf, train_accuracy_xgb, train_accuracy_gb],\n",
    "    \"Test Accuracy (%)\": [test_accuracy_rf, test_accuracy_xgb, test_accuracy_gb]\n",
    "}).sort_values(by=\"Test R² Score\", ascending=False)\n",
    "\n",
    "print(\"\\nModel Training and Test Accuracy Comparison:\")\n",
    "print(model_results)"
   ]
  },
  {
   "cell_type": "code",
   "execution_count": 33,
   "metadata": {},
   "outputs": [],
   "source": [
    "best_model = xgb_model  \n",
    "y_pred_best = y_pred_xgb"
   ]
  },
  {
   "cell_type": "code",
   "execution_count": 34,
   "metadata": {},
   "outputs": [
    {
     "data": {
      "image/png": "[encoded data removed]",
      "text/plain": [
       "<Figure size 1000x500 with 1 Axes>"
      ]
     },
     "metadata": {},
     "output_type": "display_data"
    }
   ],
   "source": [
    "plt.figure(figsize=(10, 5))\n",
    "plt.scatter(y_test, y_pred_best, color=\"blue\", alpha=0.5)\n",
    "plt.plot([y_test.min(), y_test.max()], [y_test.min(), y_test.max()], color=\"red\", linestyle=\"--\", linewidth=2)\n",
    "plt.xlabel(\"Actual Road Surface Temperature\")\n",
    "plt.ylabel(\"Predicted Road Surface Temperature\")\n",
    "plt.title(\"Actual vs Predicted Temperatures\")\n",
    "plt.show()"
   ]
  },
  {
   "cell_type": "code",
   "execution_count": 35,
   "metadata": {},
   "outputs": [],
   "source": [
    "future_dates = [datetime.now() + timedelta(days=i) for i in range(1, 8)]\n",
    "future_df = pd.DataFrame({\n",
    "    'StationName': [df['StationName'].mode()[0]] * 7,\n",
    "    'AirTemperature': [df['AirTemperature'].mean()] * 7,\n",
    "    'Year': [date.year for date in future_dates],\n",
    "    'Month': [date.month for date in future_dates],\n",
    "    'Day': [date.day for date in future_dates],\n",
    "    'Hour': [12] * 7\n",
    "})"
   ]
  },
  {
   "cell_type": "code",
   "execution_count": 36,
   "metadata": {},
   "outputs": [
    {
     "name": "stdout",
     "output_type": "stream",
     "text": [
      "\n",
      "Next Week's Temperature Predictions:\n",
      "   Year  Month  Day  Predicted RoadSurfaceTemperature\n",
      "0  2025      3    9                         48.383469\n",
      "1  2025      3   10                         48.383469\n",
      "2  2025      3   11                         48.383469\n",
      "3  2025      3   12                         48.383469\n",
      "4  2025      3   13                         48.383469\n",
      "5  2025      3   14                         48.383469\n",
      "6  2025      3   15                         48.383469\n"
     ]
    }
   ],
   "source": [
    "future_predictions = best_model.predict(future_df)\n",
    "future_df['Predicted RoadSurfaceTemperature'] = future_predictions\n",
    "print(\"\\nNext Week's Temperature Predictions:\")\n",
    "print(future_df[['Year', 'Month', 'Day', 'Predicted RoadSurfaceTemperature']])"
   ]
  },
  {
   "cell_type": "code",
   "execution_count": null,
   "metadata": {},
   "outputs": [],
   "source": []
  }
 ],
 "metadata": {
  "kernelspec": {
   "display_name": "Python 3",
   "language": "python",
   "name": "python3"
  },
  "language_info": {
   "codemirror_mode": {
    "name": "ipython",
    "version": 3
   },
   "file_extension": ".py",
   "mimetype": "text/x-python",
   "name": "python",
   "nbconvert_exporter": "python",
   "pygments_lexer": "ipython3",
   "version": "3.10.4"
  }
 },
 "nbformat": 4,
 "nbformat_minor": 2
}
